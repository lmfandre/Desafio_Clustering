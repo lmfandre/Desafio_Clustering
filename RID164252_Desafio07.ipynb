{
  "nbformat": 4,
  "nbformat_minor": 0,
  "metadata": {
    "colab": {
      "provenance": [],
      "include_colab_link": true
    },
    "kernelspec": {
      "name": "python3",
      "display_name": "Python 3"
    },
    "language_info": {
      "name": "python"
    }
  },
  "cells": [
    {
      "cell_type": "markdown",
      "metadata": {
        "id": "view-in-github",
        "colab_type": "text"
      },
      "source": [
        "<a href=\"https://colab.research.google.com/github/lmfandre/Desafio_Clustering/blob/main/RID164252_Desafio07.ipynb\" target=\"_parent\"><img src=\"https://colab.research.google.com/assets/colab-badge.svg\" alt=\"Open In Colab\"/></a>"
      ]
    },
    {
      "cell_type": "code",
      "execution_count": null,
      "metadata": {
        "id": "5n7T73PAcqSO"
      },
      "outputs": [],
      "source": [
        "import pandas as pd\n",
        "import seaborn as sns\n",
        "import matplotlib as mp"
      ]
    },
    {
      "cell_type": "code",
      "source": [
        "df = pd.read_csv(\"data (1).csv\", encoding=\"ISO-8859-1\")\n",
        "df"
      ],
      "metadata": {
        "colab": {
          "base_uri": "https://localhost:8080/",
          "height": 423
        },
        "id": "G4JQ_i1Scxj0",
        "outputId": "1da86945-208e-4f08-caa5-eb62893516b7"
      },
      "execution_count": null,
      "outputs": [
        {
          "output_type": "execute_result",
          "data": {
            "text/plain": [
              "       InvoiceNo StockCode                          Description  Quantity  \\\n",
              "0         536365    85123A   WHITE HANGING HEART T-LIGHT HOLDER         6   \n",
              "1         536365     71053                  WHITE METAL LANTERN         6   \n",
              "2         536365    84406B       CREAM CUPID HEARTS COAT HANGER         8   \n",
              "3         536365    84029G  KNITTED UNION FLAG HOT WATER BOTTLE         6   \n",
              "4         536365    84029E       RED WOOLLY HOTTIE WHITE HEART.         6   \n",
              "...          ...       ...                                  ...       ...   \n",
              "541904    581587     22613          PACK OF 20 SPACEBOY NAPKINS        12   \n",
              "541905    581587     22899         CHILDREN'S APRON DOLLY GIRL          6   \n",
              "541906    581587     23254        CHILDRENS CUTLERY DOLLY GIRL          4   \n",
              "541907    581587     23255      CHILDRENS CUTLERY CIRCUS PARADE         4   \n",
              "541908    581587     22138        BAKING SET 9 PIECE RETROSPOT          3   \n",
              "\n",
              "            InvoiceDate  UnitPrice  CustomerID         Country  \n",
              "0        12/1/2010 8:26       2.55     17850.0  United Kingdom  \n",
              "1        12/1/2010 8:26       3.39     17850.0  United Kingdom  \n",
              "2        12/1/2010 8:26       2.75     17850.0  United Kingdom  \n",
              "3        12/1/2010 8:26       3.39     17850.0  United Kingdom  \n",
              "4        12/1/2010 8:26       3.39     17850.0  United Kingdom  \n",
              "...                 ...        ...         ...             ...  \n",
              "541904  12/9/2011 12:50       0.85     12680.0          France  \n",
              "541905  12/9/2011 12:50       2.10     12680.0          France  \n",
              "541906  12/9/2011 12:50       4.15     12680.0          France  \n",
              "541907  12/9/2011 12:50       4.15     12680.0          France  \n",
              "541908  12/9/2011 12:50       4.95     12680.0          France  \n",
              "\n",
              "[541909 rows x 8 columns]"
            ],
            "text/html": [
              "\n",
              "  <div id=\"df-f29aa0e4-7f6c-4972-a200-482eaab050d7\" class=\"colab-df-container\">\n",
              "    <div>\n",
              "<style scoped>\n",
              "    .dataframe tbody tr th:only-of-type {\n",
              "        vertical-align: middle;\n",
              "    }\n",
              "\n",
              "    .dataframe tbody tr th {\n",
              "        vertical-align: top;\n",
              "    }\n",
              "\n",
              "    .dataframe thead th {\n",
              "        text-align: right;\n",
              "    }\n",
              "</style>\n",
              "<table border=\"1\" class=\"dataframe\">\n",
              "  <thead>\n",
              "    <tr style=\"text-align: right;\">\n",
              "      <th></th>\n",
              "      <th>InvoiceNo</th>\n",
              "      <th>StockCode</th>\n",
              "      <th>Description</th>\n",
              "      <th>Quantity</th>\n",
              "      <th>InvoiceDate</th>\n",
              "      <th>UnitPrice</th>\n",
              "      <th>CustomerID</th>\n",
              "      <th>Country</th>\n",
              "    </tr>\n",
              "  </thead>\n",
              "  <tbody>\n",
              "    <tr>\n",
              "      <th>0</th>\n",
              "      <td>536365</td>\n",
              "      <td>85123A</td>\n",
              "      <td>WHITE HANGING HEART T-LIGHT HOLDER</td>\n",
              "      <td>6</td>\n",
              "      <td>12/1/2010 8:26</td>\n",
              "      <td>2.55</td>\n",
              "      <td>17850.0</td>\n",
              "      <td>United Kingdom</td>\n",
              "    </tr>\n",
              "    <tr>\n",
              "      <th>1</th>\n",
              "      <td>536365</td>\n",
              "      <td>71053</td>\n",
              "      <td>WHITE METAL LANTERN</td>\n",
              "      <td>6</td>\n",
              "      <td>12/1/2010 8:26</td>\n",
              "      <td>3.39</td>\n",
              "      <td>17850.0</td>\n",
              "      <td>United Kingdom</td>\n",
              "    </tr>\n",
              "    <tr>\n",
              "      <th>2</th>\n",
              "      <td>536365</td>\n",
              "      <td>84406B</td>\n",
              "      <td>CREAM CUPID HEARTS COAT HANGER</td>\n",
              "      <td>8</td>\n",
              "      <td>12/1/2010 8:26</td>\n",
              "      <td>2.75</td>\n",
              "      <td>17850.0</td>\n",
              "      <td>United Kingdom</td>\n",
              "    </tr>\n",
              "    <tr>\n",
              "      <th>3</th>\n",
              "      <td>536365</td>\n",
              "      <td>84029G</td>\n",
              "      <td>KNITTED UNION FLAG HOT WATER BOTTLE</td>\n",
              "      <td>6</td>\n",
              "      <td>12/1/2010 8:26</td>\n",
              "      <td>3.39</td>\n",
              "      <td>17850.0</td>\n",
              "      <td>United Kingdom</td>\n",
              "    </tr>\n",
              "    <tr>\n",
              "      <th>4</th>\n",
              "      <td>536365</td>\n",
              "      <td>84029E</td>\n",
              "      <td>RED WOOLLY HOTTIE WHITE HEART.</td>\n",
              "      <td>6</td>\n",
              "      <td>12/1/2010 8:26</td>\n",
              "      <td>3.39</td>\n",
              "      <td>17850.0</td>\n",
              "      <td>United Kingdom</td>\n",
              "    </tr>\n",
              "    <tr>\n",
              "      <th>...</th>\n",
              "      <td>...</td>\n",
              "      <td>...</td>\n",
              "      <td>...</td>\n",
              "      <td>...</td>\n",
              "      <td>...</td>\n",
              "      <td>...</td>\n",
              "      <td>...</td>\n",
              "      <td>...</td>\n",
              "    </tr>\n",
              "    <tr>\n",
              "      <th>541904</th>\n",
              "      <td>581587</td>\n",
              "      <td>22613</td>\n",
              "      <td>PACK OF 20 SPACEBOY NAPKINS</td>\n",
              "      <td>12</td>\n",
              "      <td>12/9/2011 12:50</td>\n",
              "      <td>0.85</td>\n",
              "      <td>12680.0</td>\n",
              "      <td>France</td>\n",
              "    </tr>\n",
              "    <tr>\n",
              "      <th>541905</th>\n",
              "      <td>581587</td>\n",
              "      <td>22899</td>\n",
              "      <td>CHILDREN'S APRON DOLLY GIRL</td>\n",
              "      <td>6</td>\n",
              "      <td>12/9/2011 12:50</td>\n",
              "      <td>2.10</td>\n",
              "      <td>12680.0</td>\n",
              "      <td>France</td>\n",
              "    </tr>\n",
              "    <tr>\n",
              "      <th>541906</th>\n",
              "      <td>581587</td>\n",
              "      <td>23254</td>\n",
              "      <td>CHILDRENS CUTLERY DOLLY GIRL</td>\n",
              "      <td>4</td>\n",
              "      <td>12/9/2011 12:50</td>\n",
              "      <td>4.15</td>\n",
              "      <td>12680.0</td>\n",
              "      <td>France</td>\n",
              "    </tr>\n",
              "    <tr>\n",
              "      <th>541907</th>\n",
              "      <td>581587</td>\n",
              "      <td>23255</td>\n",
              "      <td>CHILDRENS CUTLERY CIRCUS PARADE</td>\n",
              "      <td>4</td>\n",
              "      <td>12/9/2011 12:50</td>\n",
              "      <td>4.15</td>\n",
              "      <td>12680.0</td>\n",
              "      <td>France</td>\n",
              "    </tr>\n",
              "    <tr>\n",
              "      <th>541908</th>\n",
              "      <td>581587</td>\n",
              "      <td>22138</td>\n",
              "      <td>BAKING SET 9 PIECE RETROSPOT</td>\n",
              "      <td>3</td>\n",
              "      <td>12/9/2011 12:50</td>\n",
              "      <td>4.95</td>\n",
              "      <td>12680.0</td>\n",
              "      <td>France</td>\n",
              "    </tr>\n",
              "  </tbody>\n",
              "</table>\n",
              "<p>541909 rows × 8 columns</p>\n",
              "</div>\n",
              "    <div class=\"colab-df-buttons\">\n",
              "\n",
              "  <div class=\"colab-df-container\">\n",
              "    <button class=\"colab-df-convert\" onclick=\"convertToInteractive('df-f29aa0e4-7f6c-4972-a200-482eaab050d7')\"\n",
              "            title=\"Convert this dataframe to an interactive table.\"\n",
              "            style=\"display:none;\">\n",
              "\n",
              "  <svg xmlns=\"http://www.w3.org/2000/svg\" height=\"24px\" viewBox=\"0 -960 960 960\">\n",
              "    <path d=\"M120-120v-720h720v720H120Zm60-500h600v-160H180v160Zm220 220h160v-160H400v160Zm0 220h160v-160H400v160ZM180-400h160v-160H180v160Zm440 0h160v-160H620v160ZM180-180h160v-160H180v160Zm440 0h160v-160H620v160Z\"/>\n",
              "  </svg>\n",
              "    </button>\n",
              "\n",
              "  <style>\n",
              "    .colab-df-container {\n",
              "      display:flex;\n",
              "      gap: 12px;\n",
              "    }\n",
              "\n",
              "    .colab-df-convert {\n",
              "      background-color: #E8F0FE;\n",
              "      border: none;\n",
              "      border-radius: 50%;\n",
              "      cursor: pointer;\n",
              "      display: none;\n",
              "      fill: #1967D2;\n",
              "      height: 32px;\n",
              "      padding: 0 0 0 0;\n",
              "      width: 32px;\n",
              "    }\n",
              "\n",
              "    .colab-df-convert:hover {\n",
              "      background-color: #E2EBFA;\n",
              "      box-shadow: 0px 1px 2px rgba(60, 64, 67, 0.3), 0px 1px 3px 1px rgba(60, 64, 67, 0.15);\n",
              "      fill: #174EA6;\n",
              "    }\n",
              "\n",
              "    .colab-df-buttons div {\n",
              "      margin-bottom: 4px;\n",
              "    }\n",
              "\n",
              "    [theme=dark] .colab-df-convert {\n",
              "      background-color: #3B4455;\n",
              "      fill: #D2E3FC;\n",
              "    }\n",
              "\n",
              "    [theme=dark] .colab-df-convert:hover {\n",
              "      background-color: #434B5C;\n",
              "      box-shadow: 0px 1px 3px 1px rgba(0, 0, 0, 0.15);\n",
              "      filter: drop-shadow(0px 1px 2px rgba(0, 0, 0, 0.3));\n",
              "      fill: #FFFFFF;\n",
              "    }\n",
              "  </style>\n",
              "\n",
              "    <script>\n",
              "      const buttonEl =\n",
              "        document.querySelector('#df-f29aa0e4-7f6c-4972-a200-482eaab050d7 button.colab-df-convert');\n",
              "      buttonEl.style.display =\n",
              "        google.colab.kernel.accessAllowed ? 'block' : 'none';\n",
              "\n",
              "      async function convertToInteractive(key) {\n",
              "        const element = document.querySelector('#df-f29aa0e4-7f6c-4972-a200-482eaab050d7');\n",
              "        const dataTable =\n",
              "          await google.colab.kernel.invokeFunction('convertToInteractive',\n",
              "                                                    [key], {});\n",
              "        if (!dataTable) return;\n",
              "\n",
              "        const docLinkHtml = 'Like what you see? Visit the ' +\n",
              "          '<a target=\"_blank\" href=https://colab.research.google.com/notebooks/data_table.ipynb>data table notebook</a>'\n",
              "          + ' to learn more about interactive tables.';\n",
              "        element.innerHTML = '';\n",
              "        dataTable['output_type'] = 'display_data';\n",
              "        await google.colab.output.renderOutput(dataTable, element);\n",
              "        const docLink = document.createElement('div');\n",
              "        docLink.innerHTML = docLinkHtml;\n",
              "        element.appendChild(docLink);\n",
              "      }\n",
              "    </script>\n",
              "  </div>\n",
              "\n",
              "\n",
              "<div id=\"df-2f5247fd-b5eb-43af-a268-2f374962a4ba\">\n",
              "  <button class=\"colab-df-quickchart\" onclick=\"quickchart('df-2f5247fd-b5eb-43af-a268-2f374962a4ba')\"\n",
              "            title=\"Suggest charts\"\n",
              "            style=\"display:none;\">\n",
              "\n",
              "<svg xmlns=\"http://www.w3.org/2000/svg\" height=\"24px\"viewBox=\"0 0 24 24\"\n",
              "     width=\"24px\">\n",
              "    <g>\n",
              "        <path d=\"M19 3H5c-1.1 0-2 .9-2 2v14c0 1.1.9 2 2 2h14c1.1 0 2-.9 2-2V5c0-1.1-.9-2-2-2zM9 17H7v-7h2v7zm4 0h-2V7h2v10zm4 0h-2v-4h2v4z\"/>\n",
              "    </g>\n",
              "</svg>\n",
              "  </button>\n",
              "\n",
              "<style>\n",
              "  .colab-df-quickchart {\n",
              "      --bg-color: #E8F0FE;\n",
              "      --fill-color: #1967D2;\n",
              "      --hover-bg-color: #E2EBFA;\n",
              "      --hover-fill-color: #174EA6;\n",
              "      --disabled-fill-color: #AAA;\n",
              "      --disabled-bg-color: #DDD;\n",
              "  }\n",
              "\n",
              "  [theme=dark] .colab-df-quickchart {\n",
              "      --bg-color: #3B4455;\n",
              "      --fill-color: #D2E3FC;\n",
              "      --hover-bg-color: #434B5C;\n",
              "      --hover-fill-color: #FFFFFF;\n",
              "      --disabled-bg-color: #3B4455;\n",
              "      --disabled-fill-color: #666;\n",
              "  }\n",
              "\n",
              "  .colab-df-quickchart {\n",
              "    background-color: var(--bg-color);\n",
              "    border: none;\n",
              "    border-radius: 50%;\n",
              "    cursor: pointer;\n",
              "    display: none;\n",
              "    fill: var(--fill-color);\n",
              "    height: 32px;\n",
              "    padding: 0;\n",
              "    width: 32px;\n",
              "  }\n",
              "\n",
              "  .colab-df-quickchart:hover {\n",
              "    background-color: var(--hover-bg-color);\n",
              "    box-shadow: 0 1px 2px rgba(60, 64, 67, 0.3), 0 1px 3px 1px rgba(60, 64, 67, 0.15);\n",
              "    fill: var(--button-hover-fill-color);\n",
              "  }\n",
              "\n",
              "  .colab-df-quickchart-complete:disabled,\n",
              "  .colab-df-quickchart-complete:disabled:hover {\n",
              "    background-color: var(--disabled-bg-color);\n",
              "    fill: var(--disabled-fill-color);\n",
              "    box-shadow: none;\n",
              "  }\n",
              "\n",
              "  .colab-df-spinner {\n",
              "    border: 2px solid var(--fill-color);\n",
              "    border-color: transparent;\n",
              "    border-bottom-color: var(--fill-color);\n",
              "    animation:\n",
              "      spin 1s steps(1) infinite;\n",
              "  }\n",
              "\n",
              "  @keyframes spin {\n",
              "    0% {\n",
              "      border-color: transparent;\n",
              "      border-bottom-color: var(--fill-color);\n",
              "      border-left-color: var(--fill-color);\n",
              "    }\n",
              "    20% {\n",
              "      border-color: transparent;\n",
              "      border-left-color: var(--fill-color);\n",
              "      border-top-color: var(--fill-color);\n",
              "    }\n",
              "    30% {\n",
              "      border-color: transparent;\n",
              "      border-left-color: var(--fill-color);\n",
              "      border-top-color: var(--fill-color);\n",
              "      border-right-color: var(--fill-color);\n",
              "    }\n",
              "    40% {\n",
              "      border-color: transparent;\n",
              "      border-right-color: var(--fill-color);\n",
              "      border-top-color: var(--fill-color);\n",
              "    }\n",
              "    60% {\n",
              "      border-color: transparent;\n",
              "      border-right-color: var(--fill-color);\n",
              "    }\n",
              "    80% {\n",
              "      border-color: transparent;\n",
              "      border-right-color: var(--fill-color);\n",
              "      border-bottom-color: var(--fill-color);\n",
              "    }\n",
              "    90% {\n",
              "      border-color: transparent;\n",
              "      border-bottom-color: var(--fill-color);\n",
              "    }\n",
              "  }\n",
              "</style>\n",
              "\n",
              "  <script>\n",
              "    async function quickchart(key) {\n",
              "      const quickchartButtonEl =\n",
              "        document.querySelector('#' + key + ' button');\n",
              "      quickchartButtonEl.disabled = true;  // To prevent multiple clicks.\n",
              "      quickchartButtonEl.classList.add('colab-df-spinner');\n",
              "      try {\n",
              "        const charts = await google.colab.kernel.invokeFunction(\n",
              "            'suggestCharts', [key], {});\n",
              "      } catch (error) {\n",
              "        console.error('Error during call to suggestCharts:', error);\n",
              "      }\n",
              "      quickchartButtonEl.classList.remove('colab-df-spinner');\n",
              "      quickchartButtonEl.classList.add('colab-df-quickchart-complete');\n",
              "    }\n",
              "    (() => {\n",
              "      let quickchartButtonEl =\n",
              "        document.querySelector('#df-2f5247fd-b5eb-43af-a268-2f374962a4ba button');\n",
              "      quickchartButtonEl.style.display =\n",
              "        google.colab.kernel.accessAllowed ? 'block' : 'none';\n",
              "    })();\n",
              "  </script>\n",
              "</div>\n",
              "\n",
              "  <div id=\"id_587bc834-2401-404c-98db-d706dbef1b2e\">\n",
              "    <style>\n",
              "      .colab-df-generate {\n",
              "        background-color: #E8F0FE;\n",
              "        border: none;\n",
              "        border-radius: 50%;\n",
              "        cursor: pointer;\n",
              "        display: none;\n",
              "        fill: #1967D2;\n",
              "        height: 32px;\n",
              "        padding: 0 0 0 0;\n",
              "        width: 32px;\n",
              "      }\n",
              "\n",
              "      .colab-df-generate:hover {\n",
              "        background-color: #E2EBFA;\n",
              "        box-shadow: 0px 1px 2px rgba(60, 64, 67, 0.3), 0px 1px 3px 1px rgba(60, 64, 67, 0.15);\n",
              "        fill: #174EA6;\n",
              "      }\n",
              "\n",
              "      [theme=dark] .colab-df-generate {\n",
              "        background-color: #3B4455;\n",
              "        fill: #D2E3FC;\n",
              "      }\n",
              "\n",
              "      [theme=dark] .colab-df-generate:hover {\n",
              "        background-color: #434B5C;\n",
              "        box-shadow: 0px 1px 3px 1px rgba(0, 0, 0, 0.15);\n",
              "        filter: drop-shadow(0px 1px 2px rgba(0, 0, 0, 0.3));\n",
              "        fill: #FFFFFF;\n",
              "      }\n",
              "    </style>\n",
              "    <button class=\"colab-df-generate\" onclick=\"generateWithVariable('df')\"\n",
              "            title=\"Generate code using this dataframe.\"\n",
              "            style=\"display:none;\">\n",
              "\n",
              "  <svg xmlns=\"http://www.w3.org/2000/svg\" height=\"24px\"viewBox=\"0 0 24 24\"\n",
              "       width=\"24px\">\n",
              "    <path d=\"M7,19H8.4L18.45,9,17,7.55,7,17.6ZM5,21V16.75L18.45,3.32a2,2,0,0,1,2.83,0l1.4,1.43a1.91,1.91,0,0,1,.58,1.4,1.91,1.91,0,0,1-.58,1.4L9.25,21ZM18.45,9,17,7.55Zm-12,3A5.31,5.31,0,0,0,4.9,8.1,5.31,5.31,0,0,0,1,6.5,5.31,5.31,0,0,0,4.9,4.9,5.31,5.31,0,0,0,6.5,1,5.31,5.31,0,0,0,8.1,4.9,5.31,5.31,0,0,0,12,6.5,5.46,5.46,0,0,0,6.5,12Z\"/>\n",
              "  </svg>\n",
              "    </button>\n",
              "    <script>\n",
              "      (() => {\n",
              "      const buttonEl =\n",
              "        document.querySelector('#id_587bc834-2401-404c-98db-d706dbef1b2e button.colab-df-generate');\n",
              "      buttonEl.style.display =\n",
              "        google.colab.kernel.accessAllowed ? 'block' : 'none';\n",
              "\n",
              "      buttonEl.onclick = () => {\n",
              "        google.colab.notebook.generateWithVariable('df');\n",
              "      }\n",
              "      })();\n",
              "    </script>\n",
              "  </div>\n",
              "\n",
              "    </div>\n",
              "  </div>\n"
            ],
            "application/vnd.google.colaboratory.intrinsic+json": {
              "type": "dataframe",
              "variable_name": "df"
            }
          },
          "metadata": {},
          "execution_count": 2
        }
      ]
    },
    {
      "cell_type": "code",
      "source": [
        "df.info()"
      ],
      "metadata": {
        "id": "cDyn0uwkc_S5",
        "colab": {
          "base_uri": "https://localhost:8080/"
        },
        "outputId": "8b3f9bdf-7a2c-463f-a122-ba62ec85946d"
      },
      "execution_count": null,
      "outputs": [
        {
          "output_type": "stream",
          "name": "stdout",
          "text": [
            "<class 'pandas.core.frame.DataFrame'>\n",
            "RangeIndex: 541909 entries, 0 to 541908\n",
            "Data columns (total 8 columns):\n",
            " #   Column       Non-Null Count   Dtype  \n",
            "---  ------       --------------   -----  \n",
            " 0   InvoiceNo    541909 non-null  object \n",
            " 1   StockCode    541909 non-null  object \n",
            " 2   Description  540455 non-null  object \n",
            " 3   Quantity     541909 non-null  int64  \n",
            " 4   InvoiceDate  541909 non-null  object \n",
            " 5   UnitPrice    541909 non-null  float64\n",
            " 6   CustomerID   406829 non-null  float64\n",
            " 7   Country      541909 non-null  object \n",
            "dtypes: float64(2), int64(1), object(5)\n",
            "memory usage: 33.1+ MB\n"
          ]
        }
      ]
    },
    {
      "cell_type": "markdown",
      "source": [
        "Description e CustomerID contêm dados nulos"
      ],
      "metadata": {
        "id": "NHFmLtjlgf0X"
      }
    },
    {
      "cell_type": "code",
      "source": [
        "df.isna().sum()"
      ],
      "metadata": {
        "colab": {
          "base_uri": "https://localhost:8080/",
          "height": 335
        },
        "id": "bWKDLJGphamY",
        "outputId": "d9410bee-16c0-40dc-f926-cf75ff817a56"
      },
      "execution_count": null,
      "outputs": [
        {
          "output_type": "execute_result",
          "data": {
            "text/plain": [
              "InvoiceNo           0\n",
              "StockCode           0\n",
              "Description      1454\n",
              "Quantity            0\n",
              "InvoiceDate         0\n",
              "UnitPrice           0\n",
              "CustomerID     135080\n",
              "Country             0\n",
              "dtype: int64"
            ],
            "text/html": [
              "<div>\n",
              "<style scoped>\n",
              "    .dataframe tbody tr th:only-of-type {\n",
              "        vertical-align: middle;\n",
              "    }\n",
              "\n",
              "    .dataframe tbody tr th {\n",
              "        vertical-align: top;\n",
              "    }\n",
              "\n",
              "    .dataframe thead th {\n",
              "        text-align: right;\n",
              "    }\n",
              "</style>\n",
              "<table border=\"1\" class=\"dataframe\">\n",
              "  <thead>\n",
              "    <tr style=\"text-align: right;\">\n",
              "      <th></th>\n",
              "      <th>0</th>\n",
              "    </tr>\n",
              "  </thead>\n",
              "  <tbody>\n",
              "    <tr>\n",
              "      <th>InvoiceNo</th>\n",
              "      <td>0</td>\n",
              "    </tr>\n",
              "    <tr>\n",
              "      <th>StockCode</th>\n",
              "      <td>0</td>\n",
              "    </tr>\n",
              "    <tr>\n",
              "      <th>Description</th>\n",
              "      <td>1454</td>\n",
              "    </tr>\n",
              "    <tr>\n",
              "      <th>Quantity</th>\n",
              "      <td>0</td>\n",
              "    </tr>\n",
              "    <tr>\n",
              "      <th>InvoiceDate</th>\n",
              "      <td>0</td>\n",
              "    </tr>\n",
              "    <tr>\n",
              "      <th>UnitPrice</th>\n",
              "      <td>0</td>\n",
              "    </tr>\n",
              "    <tr>\n",
              "      <th>CustomerID</th>\n",
              "      <td>135080</td>\n",
              "    </tr>\n",
              "    <tr>\n",
              "      <th>Country</th>\n",
              "      <td>0</td>\n",
              "    </tr>\n",
              "  </tbody>\n",
              "</table>\n",
              "</div><br><label><b>dtype:</b> int64</label>"
            ]
          },
          "metadata": {},
          "execution_count": 4
        }
      ]
    },
    {
      "cell_type": "markdown",
      "source": [
        "Temos 135.080 dados faltantes de clientes. São muitos dados, mas devem ser dropados para calcular o RFM"
      ],
      "metadata": {
        "id": "rxBRiClwI2q4"
      }
    },
    {
      "cell_type": "code",
      "source": [
        "df = df.dropna(subset=['CustomerID'])"
      ],
      "metadata": {
        "id": "O9d0Wb1zHr_Q"
      },
      "execution_count": null,
      "outputs": []
    },
    {
      "cell_type": "code",
      "source": [
        "df.isna().sum()"
      ],
      "metadata": {
        "colab": {
          "base_uri": "https://localhost:8080/",
          "height": 335
        },
        "id": "aLAMLIPAH_tK",
        "outputId": "292ee38f-4b56-44b6-e1d2-d7021969390c"
      },
      "execution_count": null,
      "outputs": [
        {
          "output_type": "execute_result",
          "data": {
            "text/plain": [
              "InvoiceNo      0\n",
              "StockCode      0\n",
              "Description    0\n",
              "Quantity       0\n",
              "InvoiceDate    0\n",
              "UnitPrice      0\n",
              "CustomerID     0\n",
              "Country        0\n",
              "dtype: int64"
            ],
            "text/html": [
              "<div>\n",
              "<style scoped>\n",
              "    .dataframe tbody tr th:only-of-type {\n",
              "        vertical-align: middle;\n",
              "    }\n",
              "\n",
              "    .dataframe tbody tr th {\n",
              "        vertical-align: top;\n",
              "    }\n",
              "\n",
              "    .dataframe thead th {\n",
              "        text-align: right;\n",
              "    }\n",
              "</style>\n",
              "<table border=\"1\" class=\"dataframe\">\n",
              "  <thead>\n",
              "    <tr style=\"text-align: right;\">\n",
              "      <th></th>\n",
              "      <th>0</th>\n",
              "    </tr>\n",
              "  </thead>\n",
              "  <tbody>\n",
              "    <tr>\n",
              "      <th>InvoiceNo</th>\n",
              "      <td>0</td>\n",
              "    </tr>\n",
              "    <tr>\n",
              "      <th>StockCode</th>\n",
              "      <td>0</td>\n",
              "    </tr>\n",
              "    <tr>\n",
              "      <th>Description</th>\n",
              "      <td>0</td>\n",
              "    </tr>\n",
              "    <tr>\n",
              "      <th>Quantity</th>\n",
              "      <td>0</td>\n",
              "    </tr>\n",
              "    <tr>\n",
              "      <th>InvoiceDate</th>\n",
              "      <td>0</td>\n",
              "    </tr>\n",
              "    <tr>\n",
              "      <th>UnitPrice</th>\n",
              "      <td>0</td>\n",
              "    </tr>\n",
              "    <tr>\n",
              "      <th>CustomerID</th>\n",
              "      <td>0</td>\n",
              "    </tr>\n",
              "    <tr>\n",
              "      <th>Country</th>\n",
              "      <td>0</td>\n",
              "    </tr>\n",
              "  </tbody>\n",
              "</table>\n",
              "</div><br><label><b>dtype:</b> int64</label>"
            ]
          },
          "metadata": {},
          "execution_count": 6
        }
      ]
    },
    {
      "cell_type": "code",
      "source": [
        "df.duplicated().sum()"
      ],
      "metadata": {
        "id": "JHxnGyiVhnkw"
      },
      "execution_count": null,
      "outputs": []
    },
    {
      "cell_type": "code",
      "source": [
        "df = df.drop_duplicates()"
      ],
      "metadata": {
        "id": "nCTB3sf2J2Ab"
      },
      "execution_count": null,
      "outputs": []
    },
    {
      "cell_type": "code",
      "source": [
        "df.duplicated().sum()"
      ],
      "metadata": {
        "id": "_TsBT5EcJ5pu"
      },
      "execution_count": null,
      "outputs": []
    },
    {
      "cell_type": "code",
      "source": [
        "df.describe()"
      ],
      "metadata": {
        "id": "GYy-NkdqehUW"
      },
      "execution_count": null,
      "outputs": []
    },
    {
      "cell_type": "markdown",
      "source": [
        "Valores negativos em Quantity e UnitPrice não fazem sentido"
      ],
      "metadata": {
        "id": "MzYk_YnKgmq3"
      }
    },
    {
      "cell_type": "code",
      "source": [
        "menorq0 = df.query(\"Quantity <= 0 or UnitPrice <= 0\")\n",
        "menorq0"
      ],
      "metadata": {
        "id": "cP2STPkGNpKd"
      },
      "execution_count": null,
      "outputs": []
    },
    {
      "cell_type": "code",
      "source": [
        "df = df.query(\"Quantity > 0 and UnitPrice > 0\").copy()\n",
        "df"
      ],
      "metadata": {
        "id": "oppre6cbPmzt"
      },
      "execution_count": null,
      "outputs": []
    },
    {
      "cell_type": "code",
      "source": [
        "df[[\"Quantity\", \"UnitPrice\"]].plot.box()"
      ],
      "metadata": {
        "id": "joPjqMGiP9ah"
      },
      "execution_count": null,
      "outputs": []
    },
    {
      "cell_type": "markdown",
      "source": [
        "Existem dois valores outliers muito gritantes em Quantity, pode ser interessante ignorá-los na nossa análise\n"
      ],
      "metadata": {
        "id": "K1jcTYpTQglu"
      }
    },
    {
      "cell_type": "code",
      "source": [
        "df.query(\"Quantity > 10000\")"
      ],
      "metadata": {
        "id": "1obQOf_hQWXd"
      },
      "execution_count": null,
      "outputs": []
    },
    {
      "cell_type": "code",
      "source": [
        "df.query(\"Quantity < 10000\")[[\"Quantity\", \"UnitPrice\"]].plot.box()"
      ],
      "metadata": {
        "id": "yT03UbBvRkcX"
      },
      "execution_count": null,
      "outputs": []
    },
    {
      "cell_type": "code",
      "source": [
        "df.query(\"UnitPrice > 8000\")"
      ],
      "metadata": {
        "id": "yY1zg5pjepbm"
      },
      "execution_count": null,
      "outputs": []
    },
    {
      "cell_type": "markdown",
      "source": [
        "Também vamos eliminar este outlier"
      ],
      "metadata": {
        "id": "zG5hHx1tetiY"
      }
    },
    {
      "cell_type": "code",
      "source": [
        "df = df.query(\"Quantity < 10000 & UnitPrice < 8000\").copy()"
      ],
      "metadata": {
        "id": "-459U0muexNT"
      },
      "execution_count": null,
      "outputs": []
    },
    {
      "cell_type": "code",
      "source": [
        "df[\"TotalPrice\"] = df.Quantity * df.UnitPrice\n",
        "df"
      ],
      "metadata": {
        "id": "VXlssyhve_nV"
      },
      "execution_count": null,
      "outputs": []
    },
    {
      "cell_type": "code",
      "source": [
        "df[[\"Description\", \"Country\"]].nunique()"
      ],
      "metadata": {
        "id": "-Zw7G3ubek4Z"
      },
      "execution_count": null,
      "outputs": []
    },
    {
      "cell_type": "code",
      "source": [
        "df[\"InvoiceDate\"] = pd.to_datetime(df.InvoiceDate, format = \"%m/%d/%Y %H:%M\")"
      ],
      "metadata": {
        "id": "bDKmWtHJf7lI"
      },
      "execution_count": null,
      "outputs": []
    },
    {
      "cell_type": "code",
      "source": [
        "df[\"CustomerID\"] = df[\"CustomerID\"].astype(int)\n",
        "df[\"Country\"] = df[\"Country\"].astype(\"category\")"
      ],
      "metadata": {
        "id": "-ZuQwL1wKTs7"
      },
      "execution_count": null,
      "outputs": []
    },
    {
      "cell_type": "code",
      "source": [
        "df.info()"
      ],
      "metadata": {
        "id": "h0Zf9SjZK1F4"
      },
      "execution_count": null,
      "outputs": []
    },
    {
      "cell_type": "code",
      "source": [
        "# **Agrupar por Cliente e Pedido (InvoiceNo)**\n",
        "df_pedidos = df.groupby([\"CustomerID\", \"InvoiceNo\"]).agg(\n",
        "    InvoiceDate=(\"InvoiceDate\", \"max\"),  # Pega a data do pedido\n",
        "    TotalOrderPrice=(\"TotalPrice\", \"sum\")  # Soma os valores de cada pedido\n",
        ").reset_index()\n",
        "\n",
        "# **Calcular a última compra disponível**\n",
        "ultima_compra = df_pedidos[\"InvoiceDate\"].max()\n",
        "\n",
        "# **Agrupar por Cliente e Calcular RFM**\n",
        "rfm = df_pedidos.groupby(\"CustomerID\").agg(\n",
        "    Recency=(\"InvoiceDate\", lambda x: (ultima_compra - x.max()).days),  # R\n",
        "    Frequency=(\"InvoiceNo\", \"count\"),  # F\n",
        "    Monetary=(\"TotalOrderPrice\", \"mean\")  # M (ticket médio)\n",
        ").reset_index()\n",
        "\n",
        "# **Visualizar o resultado**\n",
        "print(\"Tabela RFM Calculada:\")\n",
        "print(rfm)"
      ],
      "metadata": {
        "id": "dGYOec2pLK2i"
      },
      "execution_count": null,
      "outputs": []
    },
    {
      "cell_type": "code",
      "source": [
        "rfm[[\"Recency\", \"Frequency\", \"Monetary\"]].plot.box()"
      ],
      "metadata": {
        "id": "QXwz7k7Bf7e8"
      },
      "execution_count": null,
      "outputs": []
    },
    {
      "cell_type": "markdown",
      "source": [
        "Ainda temos 2 grandes outliers em Monetary, vamos analisar os dois casos mais de perto para ver se faz sentido ignorá-los"
      ],
      "metadata": {
        "id": "W_uXsm5moMQM"
      }
    },
    {
      "cell_type": "code",
      "source": [
        "rfm.query(\"Monetary > 8000\")"
      ],
      "metadata": {
        "id": "be6_yFw1mTLY"
      },
      "execution_count": null,
      "outputs": []
    },
    {
      "cell_type": "code",
      "source": [
        "df.query(\"CustomerID == 15098 or CustomerID == 15749\")"
      ],
      "metadata": {
        "id": "NdkhArnfo2Df"
      },
      "execution_count": null,
      "outputs": []
    },
    {
      "cell_type": "markdown",
      "source": [
        "\n",
        "\n",
        "---\n",
        "\n",
        "\n",
        "O cliente 15749 não parece levantar nenhuma suspeita, deve ser um consumidor forte mesmo. O cliente 15098 parece ter sofrido um erro ou confusão de dados, veja que ele compra 60 unidades do item PICNIC BASKET WICKER SMALL, depois compra 60 unidades do item PICNIC BASKET WICKER 60 PIECES, o qual já inclui a quantidade na descrição. Vamos eliminar somente este cliente."
      ],
      "metadata": {
        "id": "xASqXLEgpLwW"
      }
    },
    {
      "cell_type": "code",
      "source": [
        "rfm = rfm[rfm[\"CustomerID\"] != 15098]\n",
        "rfm"
      ],
      "metadata": {
        "id": "WzY3rCweo_6l"
      },
      "execution_count": null,
      "outputs": []
    },
    {
      "cell_type": "code",
      "source": [
        "rfm[[\"Recency\", \"Frequency\", \"Monetary\"]].plot.box()"
      ],
      "metadata": {
        "id": "3yPoD8U8qIAZ"
      },
      "execution_count": null,
      "outputs": []
    },
    {
      "cell_type": "code",
      "source": [
        "rfm.describe()"
      ],
      "metadata": {
        "id": "kG0SxpgEtoDe"
      },
      "execution_count": null,
      "outputs": []
    },
    {
      "cell_type": "markdown",
      "source": [
        "\n",
        "\n",
        "---\n",
        "\n",
        "Mesmo após remover os outliers mais notáveis, ainda podemos perceber uma diferença muito grande entre a maior parte dos dados (75%) e o valor máximo.\n",
        "Para tentar amenizar isso, vamos usar um método de clip\n"
      ],
      "metadata": {
        "id": "2W9Tvb7luwHt"
      }
    },
    {
      "cell_type": "code",
      "source": [
        "rfm_clip = rfm.apply(lambda x: x.clip(upper = x.quantile(.95)))\n",
        "rfm_clip.describe()"
      ],
      "metadata": {
        "id": "lsoa2dTvuu9h"
      },
      "execution_count": null,
      "outputs": []
    },
    {
      "cell_type": "code",
      "source": [
        "from sklearn.preprocessing import scale\n",
        "rfm_clip_scaled = rfm_clip.apply(scale)"
      ],
      "metadata": {
        "id": "sNBIWwxCvlGA"
      },
      "execution_count": null,
      "outputs": []
    },
    {
      "cell_type": "code",
      "source": [
        "from sklearn.mixture import GaussianMixture\n",
        "from sklearn.cluster import KMeans, DBSCAN, MeanShift, AgglomerativeClustering\n",
        "from sklearn.metrics import silhouette_score, davies_bouldin_score, calinski_harabasz_score\n",
        "from scipy.cluster.hierarchy import linkage, dendrogram, fcluster\n",
        "from yellowbrick.cluster import kelbow_visualizer"
      ],
      "metadata": {
        "id": "JjsY7z9nw2_p"
      },
      "execution_count": null,
      "outputs": []
    },
    {
      "cell_type": "code",
      "source": [
        "kelbow_visualizer(KMeans(), rfm_clip_scaled, k = 10, timings = False)"
      ],
      "metadata": {
        "id": "q0seYUjDwi61"
      },
      "execution_count": null,
      "outputs": []
    },
    {
      "cell_type": "code",
      "source": [
        "# Create list of dictionaries\n",
        "\n",
        "cluster_metrics = silhouette_score, davies_bouldin_score, calinski_harabasz_score\n",
        "cluster_metrics_results = []\n",
        "X = rfm_clip_scaled.copy()\n",
        "\n",
        "for k in range(2,11):\n",
        "  model = KMeans(n_clusters=k, random_state=0)\n",
        "  labels = model.fit_predict(X)\n",
        "  cluster_results_dict = {'k': k}\n",
        "  cluster_results_dict['inertia'] = model.inertia_\n",
        "  for metric in cluster_metrics:\n",
        "    cluster_results_dict[metric.__name__] = metric(X, labels)\n",
        "  cluster_metrics_results.append(cluster_results_dict)\n",
        "\n",
        "pd.DataFrame(cluster_metrics_results).set_index('k').style.background_gradient()"
      ],
      "metadata": {
        "id": "IiiPtkPcww2K"
      },
      "execution_count": null,
      "outputs": []
    },
    {
      "cell_type": "code",
      "source": [
        "kmeans = KMeans(4)\n",
        "kmeans_labels = kmeans.fit_predict(rfm_clip_scaled)"
      ],
      "metadata": {
        "id": "fxCeo6vByWHn"
      },
      "execution_count": null,
      "outputs": []
    },
    {
      "cell_type": "markdown",
      "source": [
        "\n",
        "\n",
        "---\n",
        "\n",
        "Vamos usar K = 4, mesmo o kelbow tendo sugerido 5, pois ao final, seriam gerados dois grupos muito parecidos"
      ],
      "metadata": {
        "id": "VNOvRCx6CYog"
      }
    },
    {
      "cell_type": "code",
      "source": [
        "import plotly.express as px\n",
        "px.scatter_3d(rfm_clip, x = \"Recency\", y = \"Frequency\", z = \"Monetary\", color = kmeans_labels.astype(str))"
      ],
      "metadata": {
        "id": "IFTcvZ1jyvC1"
      },
      "execution_count": null,
      "outputs": []
    },
    {
      "cell_type": "code",
      "source": [
        "kelbow_visualizer(AgglomerativeClustering(), rfm_clip_scaled, k=10, timings=False)"
      ],
      "metadata": {
        "id": "sfoYxRGny6Y1"
      },
      "execution_count": null,
      "outputs": []
    },
    {
      "cell_type": "code",
      "source": [
        "# Create list of dictionaries\n",
        "\n",
        "cluster_metrics = silhouette_score, davies_bouldin_score, calinski_harabasz_score\n",
        "cluster_metrics_results = []\n",
        "X = rfm_clip_scaled.copy()\n",
        "\n",
        "for k in range(2,11):\n",
        "  model = AgglomerativeClustering(n_clusters=k)\n",
        "  labels = model.fit_predict(X)\n",
        "  cluster_results_dict = {'k': k}\n",
        "  for metric in cluster_metrics:\n",
        "    cluster_results_dict[metric.__name__] = metric(X, labels)\n",
        "  cluster_metrics_results.append(cluster_results_dict)\n",
        "\n",
        "pd.DataFrame(cluster_metrics_results).set_index('k').style.background_gradient()"
      ],
      "metadata": {
        "id": "qAbzKyU4z9jE"
      },
      "execution_count": null,
      "outputs": []
    },
    {
      "cell_type": "code",
      "source": [
        "hclust = AgglomerativeClustering(n_clusters=4)\n",
        "hclust_labels = hclust.fit_predict(rfm_clip_scaled)"
      ],
      "metadata": {
        "id": "76q3-LCD0S9d"
      },
      "execution_count": null,
      "outputs": []
    },
    {
      "cell_type": "code",
      "source": [
        "px.scatter_3d(rfm_clip, x = \"Recency\", y = \"Frequency\", z = \"Monetary\", color = hclust_labels.astype(str))"
      ],
      "metadata": {
        "id": "igDoaguX05Xh"
      },
      "execution_count": null,
      "outputs": []
    },
    {
      "cell_type": "code",
      "source": [
        "# Select best model by covariance type and K (Practical Statistics for Data Scientists)\n",
        "results = []\n",
        "k_range = range(1,9)\n",
        "covariance_types = ['full', 'tied', 'diag', 'spherical']\n",
        "X = rfm_clip_scaled.copy()\n",
        "\n",
        "for n_components in k_range:\n",
        "  for covariance_type in covariance_types:\n",
        "    mclust = GaussianMixture(n_components=n_components, n_init=10, warm_start=True, covariance_type=covariance_type)\n",
        "    mclust.fit(X)\n",
        "    results.append({\n",
        "      'bic': mclust.bic(X),\n",
        "      'n_components': n_components,\n",
        "      'covariance_type': covariance_type,\n",
        "    })\n",
        "\n",
        "results = pd.DataFrame(results)\n",
        "results.sort_values('bic').head()"
      ],
      "metadata": {
        "id": "cjNWL2lu1CLt"
      },
      "execution_count": null,
      "outputs": []
    },
    {
      "cell_type": "code",
      "source": [
        "sns.lineplot(data = results, x = 'n_components', y='bic', hue='covariance_type');"
      ],
      "metadata": {
        "id": "ItiH6bST1s8f"
      },
      "execution_count": null,
      "outputs": []
    },
    {
      "cell_type": "code",
      "source": [
        "mclust = GaussianMixture(n_components=5, covariance_type='full', n_init=10)\n",
        "mclust_labels = mclust.fit_predict(rfm_clip_scaled)"
      ],
      "metadata": {
        "id": "d-BaEGIp2I_L"
      },
      "execution_count": null,
      "outputs": []
    },
    {
      "cell_type": "code",
      "source": [
        "px.scatter_3d(rfm_clip, x='Recency', y='Frequency', z='Monetary', color=mclust_labels.astype(str))"
      ],
      "metadata": {
        "id": "J1Ho7vnG2te-"
      },
      "execution_count": null,
      "outputs": []
    },
    {
      "cell_type": "code",
      "source": [
        "import matplotlib.pyplot as plt"
      ],
      "metadata": {
        "id": "iJFHy1Rk4cgL"
      },
      "execution_count": null,
      "outputs": []
    },
    {
      "cell_type": "code",
      "source": [
        "centers = pd.DataFrame(kmeans.cluster_centers_, columns=rfm_clip_scaled.columns)"
      ],
      "metadata": {
        "id": "sjSr5ntW2yl2"
      },
      "execution_count": null,
      "outputs": []
    },
    {
      "cell_type": "code",
      "source": [
        "# Adaptado do livro \"Practical Statistics for Data Scientists\"\n",
        "\n",
        "# Remova 'CustomerID' de 'centers' antes de plotar\n",
        "centers = centers.drop(columns=['CustomerID'])\n",
        "\n",
        "# Encontrar o maior valor absoluto em todos os clusters\n",
        "maxPC_global = 1.01 * centers.abs().max().max()  # O maior valor absoluto no DataFrame\n",
        "\n",
        "fig,axes = plt.subplots(nrows=4, figsize=(14,12), sharex=True)\n",
        "\n",
        "for i,ax in enumerate(axes):\n",
        "  center = centers.loc[i,:]\n",
        "  maxPC = 1.01 * center.abs().max()\n",
        "  colors = ['green' if l > 0 else 'red' for l in center]\n",
        "  center.plot.bar(ax=ax, color=colors)\n",
        "  ax.set_ylabel(f'Cluster {i+1}')\n",
        "  # Aplicar o mesmo limite para todos os eixos Y\n",
        "  ax.set_ylim(-maxPC_global, maxPC_global)\n",
        "  ax.axhline(color='gray')\n",
        "  ax.xaxis.set_ticks_position('none')\n",
        "\n",
        "plt.xticks(rotation=60, ha='right')\n",
        "plt.tight_layout()\n",
        "plt.show()"
      ],
      "metadata": {
        "id": "Zcy_QVXd4QXG"
      },
      "execution_count": null,
      "outputs": []
    },
    {
      "cell_type": "code",
      "source": [
        "(\n",
        "  rfm_clip.assign(cluster=kmeans_labels)\n",
        "  .groupby('cluster')\n",
        "  .mean()\n",
        "  .transpose()\n",
        "  .style.background_gradient(cmap='YlOrRd', axis=1)\n",
        ")"
      ],
      "metadata": {
        "id": "vgpZu_2f4YQd"
      },
      "execution_count": null,
      "outputs": []
    },
    {
      "cell_type": "markdown",
      "source": [
        "\n",
        "\n",
        "---\n",
        "Identificamos 4 grupos de clientes bem distintos:\n",
        "\n",
        "1.   Clientes deste cluster são os mais recentes e frequentes. Eles compram regularmente e têm um gasto médio razoável. Estes clientes podem ser considerados fiéis, que fazem compras repetidas e têm um bom histórico de gastos.\n",
        "2.   Este grupo de clientes fez compras há algum tempo (cerca de 1 mês e meio atrás), mas tem uma frequência mais baixa de compras. O gasto médio também é um pouco menor, mas ainda substancial. Esses clientes podem estar em um estágio intermediário: não são recentes, mas também não estão completamente inativos.\n",
        "3. Este grupo de clientes fez compras ainda mais distantes, com uma frequência também moderada. No entanto, eles se destacam por gastar mais por compra, o que pode indicar que são clientes menos frequentes, mas que compram em maiores quantidades. Eles são um grupo importante devido ao seu alto valor monetário.\n",
        "4. Este cluster representa clientes inativos há muito tempo (mais de 8 meses). A frequência de compras é muito baixa, e o gasto também é relativamente baixo. Esses clientes podem ser considerados como clientes em risco de abandono, churned, ou clientes esporádicos, que não geraram compras recentes e provavelmente não estão muito envolvidos com a marca.\n",
        "\n",
        "Com isso, pode ser elaborada uma estratégia baseada em cada grupo individualmente, ou conforme a empresa desejar. Por exemplo, os grupos 2 e 3 representam clientes em risco, que não compram com tanta frequência quanto o primeiro grupo. Assim, campanhas de reativação, como ofertas especiais ou lembretes de produtos, podem ser direcionadas para tentar trazer esses clientes de volta.\n",
        "Ainda, o grupo 2 tem um alto gasto médio, o que indica que, mesmo com baixa frequência, eles podem ser clientes importantes para a marca. Estratégias de up-selling ou cross-selling podem ser eficazes, oferecendo produtos complementares de alto valor.\n"
      ],
      "metadata": {
        "id": "6rcqN7E3-Jr8"
      }
    }
  ]
}